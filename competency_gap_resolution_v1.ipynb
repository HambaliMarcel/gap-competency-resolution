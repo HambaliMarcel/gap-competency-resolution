{
  "nbformat": 4,
  "nbformat_minor": 0,
  "metadata": {
    "colab": {
      "provenance": [],
      "authorship_tag": "ABX9TyOIAAge2Z1xaO721Ah0mdZU",
      "include_colab_link": true
    },
    "kernelspec": {
      "name": "python3",
      "display_name": "Python 3"
    },
    "language_info": {
      "name": "python"
    }
  },
  "cells": [
    {
      "cell_type": "markdown",
      "metadata": {
        "id": "view-in-github",
        "colab_type": "text"
      },
      "source": [
        "<a href=\"https://colab.research.google.com/github/HambaliMarcel/gap-competency-resolution/blob/main/competency_gap_resolution_v1.ipynb\" target=\"_parent\"><img src=\"https://colab.research.google.com/assets/colab-badge.svg\" alt=\"Open In Colab\"/></a>"
      ]
    },
    {
      "cell_type": "code",
      "execution_count": null,
      "metadata": {
        "id": "gWvoB-MdoAYA"
      },
      "outputs": [],
      "source": [
        "# Model V1\n",
        "import pandas as pd\n",
        "import openai\n",
        "from google.colab import files"
      ]
    },
    {
      "cell_type": "code",
      "source": [
        "api_key = \" \""
      ],
      "metadata": {
        "id": "PYy-vIwmrO7T"
      },
      "execution_count": null,
      "outputs": []
    },
    {
      "cell_type": "code",
      "source": [
        "uploaded = files.upload()"
      ],
      "metadata": {
        "id": "fjhe2GZArQIK"
      },
      "execution_count": null,
      "outputs": []
    },
    {
      "cell_type": "code",
      "source": [
        "lna_score = pd.read_csv('lna_score.csv')\n",
        "lna_score['recommendation'] = ''\n",
        "openai.api_key = api_key"
      ],
      "metadata": {
        "id": "8O5iqOFzrRfj"
      },
      "execution_count": null,
      "outputs": []
    },
    {
      "cell_type": "code",
      "source": [
        "for index, row in lna_score.iterrows():\n",
        "    prompt = f\"Based on the LNA Score, the priority of competency {row['competency_id']} is {row['lna_priority']} with a score of {row['final_score']}. Please recommend a learning solution.\"\n",
        "    response = openai.Completion.create(\n",
        "        engine=\"gpt-3.5-turbo-instruct\",\n",
        "        prompt=prompt,\n",
        "        temperature=0.5,\n",
        "        max_tokens=50\n",
        "    )\n",
        "    recommendation = response.choices[0].text.strip()\n",
        "    lna_score.at[index, 'recommendation'] = recommendation"
      ],
      "metadata": {
        "id": "Vji1oeIioXow"
      },
      "execution_count": null,
      "outputs": []
    },
    {
      "cell_type": "code",
      "source": [
        "for index, row in lna_score.iterrows():\n",
        "    print(f\"Recommendation for competency {row['competency_id']}:\\n{row['recommendation']}\\n\")"
      ],
      "metadata": {
        "id": "CTXkE0rzoYxJ"
      },
      "execution_count": null,
      "outputs": []
    }
  ]
}