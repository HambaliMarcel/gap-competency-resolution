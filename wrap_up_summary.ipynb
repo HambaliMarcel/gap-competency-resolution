{
  "nbformat": 4,
  "nbformat_minor": 0,
  "metadata": {
    "colab": {
      "provenance": [],
      "authorship_tag": "ABX9TyPeZcA7NP1ZoE9wsQ0i7tV/",
      "include_colab_link": true
    },
    "kernelspec": {
      "name": "python3",
      "display_name": "Python 3"
    },
    "language_info": {
      "name": "python"
    }
  },
  "cells": [
    {
      "cell_type": "markdown",
      "metadata": {
        "id": "view-in-github",
        "colab_type": "text"
      },
      "source": [
        "<a href=\"https://colab.research.google.com/github/HambaliMarcel/gap-competency-resolution/blob/main/wrap_up_summary.ipynb\" target=\"_parent\"><img src=\"https://colab.research.google.com/assets/colab-badge.svg\" alt=\"Open In Colab\"/></a>"
      ]
    },
    {
      "cell_type": "code",
      "execution_count": null,
      "metadata": {
        "id": "lz34uG5kNq9-"
      },
      "outputs": [],
      "source": [
        "#FINAL Model for LNA Summary 12 May 2024\n",
        "import pandas as pd\n",
        "import openai\n",
        "from google.colab import files"
      ]
    },
    {
      "cell_type": "code",
      "source": [
        "api_key = \" \"\n",
        "openai.api_key = api_key"
      ],
      "metadata": {
        "id": "hVKw7fzAN19q"
      },
      "execution_count": null,
      "outputs": []
    },
    {
      "cell_type": "code",
      "source": [
        "proficiency_levels = {1: 'Entry', 2: 'Basic', 3: 'Intermediate', 4: 'Advanced', 5: 'Expert'}"
      ],
      "metadata": {
        "id": "ycSRbOGvN3Cu"
      },
      "execution_count": null,
      "outputs": []
    },
    {
      "cell_type": "code",
      "source": [
        "def analyze_competency_gap(file_path):\n",
        "\n",
        "    data = pd.read_excel(file_path)\n",
        "    average_aggregate_req = data['required_level'].mean()\n",
        "    rounded_average_aggregate_req = min(max(round(average_aggregate_req), 1), 5)\n",
        "    proficiency_level_req = proficiency_levels[rounded_average_aggregate_req]\n",
        "\n",
        "    average_aggregate_curr = data['current_level'].mean()\n",
        "    rounded_average_aggregate_curr = min(max(round(average_aggregate_curr), 1), 5)\n",
        "    proficiency_level_curr = proficiency_levels[rounded_average_aggregate_curr]\n",
        "\n",
        "    prompt = f\"Based on the analysis of competency gaps in the organization, the average required level across all competencies is {proficiency_level_req} level but average current level across all is {proficiency_level_curr} Level. Please provide a summary in single paragraph of the current condition (is Low Risk, Moderate Risk, Elevated Risk, High Risk, or Sever Risk) and impact of this competency gap on the organization as an Indonesia Port Maritime Corporation. Please show in Uppercase the status in the first paragraph.\"\n",
        "\n",
        "    response = openai.Completion.create(\n",
        "        engine=\"gpt-3.5-turbo-instruct\",\n",
        "        prompt=prompt,\n",
        "        max_tokens=200\n",
        "    )\n",
        "\n",
        "    return response.choices[0].text.strip()"
      ],
      "metadata": {
        "id": "T6EI__NvN56w"
      },
      "execution_count": null,
      "outputs": []
    },
    {
      "cell_type": "code",
      "source": [
        "file_path = 'learning_recommendations.xlsx'\n",
        "summary = analyze_competency_gap(file_path)\n",
        "summary_df = pd.DataFrame({'Summary': [summary]})"
      ],
      "metadata": {
        "id": "mYKLU0GpN8An"
      },
      "execution_count": null,
      "outputs": []
    },
    {
      "cell_type": "code",
      "source": [
        "summary_file_path = 'LNA_Summary.xlsx'\n",
        "summary_df.to_excel(summary_file_path, index=False)"
      ],
      "metadata": {
        "id": "S3qNrMObN9K1"
      },
      "execution_count": null,
      "outputs": []
    },
    {
      "cell_type": "code",
      "source": [
        "files.download(summary_file_path)"
      ],
      "metadata": {
        "id": "rQnDj4ptN-rh"
      },
      "execution_count": null,
      "outputs": []
    }
  ]
}