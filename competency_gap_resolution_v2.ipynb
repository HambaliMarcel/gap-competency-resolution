{
  "nbformat": 4,
  "nbformat_minor": 0,
  "metadata": {
    "colab": {
      "provenance": [],
      "authorship_tag": "ABX9TyNdDoUjDHkhLsSq2+yIH9dN",
      "include_colab_link": true
    },
    "kernelspec": {
      "name": "python3",
      "display_name": "Python 3"
    },
    "language_info": {
      "name": "python"
    }
  },
  "cells": [
    {
      "cell_type": "markdown",
      "metadata": {
        "id": "view-in-github",
        "colab_type": "text"
      },
      "source": [
        "<a href=\"https://colab.research.google.com/github/HambaliMarcel/gap-competency-resolution/blob/main/competency_gap_resolution_v2.ipynb\" target=\"_parent\"><img src=\"https://colab.research.google.com/assets/colab-badge.svg\" alt=\"Open In Colab\"/></a>"
      ]
    },
    {
      "cell_type": "code",
      "source": [
        "!pip install openai==0.28\n",
        "!pip install fuzzywuzzy"
      ],
      "metadata": {
        "colab": {
          "base_uri": "https://localhost:8080/"
        },
        "id": "iEbcLFrksw-k",
        "outputId": "153eadb0-e333-465a-865c-202e09908d4e"
      },
      "execution_count": 2,
      "outputs": [
        {
          "output_type": "stream",
          "name": "stdout",
          "text": [
            "Collecting openai==0.28\n",
            "  Downloading openai-0.28.0-py3-none-any.whl (76 kB)\n",
            "\u001b[?25l     \u001b[90m━━━━━━━━━━━━━━━━━━━━━━━━━━━━━━━━━━━━━━━━\u001b[0m \u001b[32m0.0/76.5 kB\u001b[0m \u001b[31m?\u001b[0m eta \u001b[36m-:--:--\u001b[0m\r\u001b[2K     \u001b[90m━━━━━━━━━━━━━━━━━━━━━━━━━━━━━━━━━━━━━━━━\u001b[0m \u001b[32m76.5/76.5 kB\u001b[0m \u001b[31m2.0 MB/s\u001b[0m eta \u001b[36m0:00:00\u001b[0m\n",
            "\u001b[?25hRequirement already satisfied: requests>=2.20 in /usr/local/lib/python3.10/dist-packages (from openai==0.28) (2.31.0)\n",
            "Requirement already satisfied: tqdm in /usr/local/lib/python3.10/dist-packages (from openai==0.28) (4.66.4)\n",
            "Requirement already satisfied: aiohttp in /usr/local/lib/python3.10/dist-packages (from openai==0.28) (3.9.5)\n",
            "Requirement already satisfied: charset-normalizer<4,>=2 in /usr/local/lib/python3.10/dist-packages (from requests>=2.20->openai==0.28) (3.3.2)\n",
            "Requirement already satisfied: idna<4,>=2.5 in /usr/local/lib/python3.10/dist-packages (from requests>=2.20->openai==0.28) (3.7)\n",
            "Requirement already satisfied: urllib3<3,>=1.21.1 in /usr/local/lib/python3.10/dist-packages (from requests>=2.20->openai==0.28) (2.0.7)\n",
            "Requirement already satisfied: certifi>=2017.4.17 in /usr/local/lib/python3.10/dist-packages (from requests>=2.20->openai==0.28) (2024.2.2)\n",
            "Requirement already satisfied: aiosignal>=1.1.2 in /usr/local/lib/python3.10/dist-packages (from aiohttp->openai==0.28) (1.3.1)\n",
            "Requirement already satisfied: attrs>=17.3.0 in /usr/local/lib/python3.10/dist-packages (from aiohttp->openai==0.28) (23.2.0)\n",
            "Requirement already satisfied: frozenlist>=1.1.1 in /usr/local/lib/python3.10/dist-packages (from aiohttp->openai==0.28) (1.4.1)\n",
            "Requirement already satisfied: multidict<7.0,>=4.5 in /usr/local/lib/python3.10/dist-packages (from aiohttp->openai==0.28) (6.0.5)\n",
            "Requirement already satisfied: yarl<2.0,>=1.0 in /usr/local/lib/python3.10/dist-packages (from aiohttp->openai==0.28) (1.9.4)\n",
            "Requirement already satisfied: async-timeout<5.0,>=4.0 in /usr/local/lib/python3.10/dist-packages (from aiohttp->openai==0.28) (4.0.3)\n",
            "Installing collected packages: openai\n",
            "Successfully installed openai-0.28.0\n",
            "Collecting fuzzywuzzy\n",
            "  Downloading fuzzywuzzy-0.18.0-py2.py3-none-any.whl (18 kB)\n",
            "Installing collected packages: fuzzywuzzy\n",
            "Successfully installed fuzzywuzzy-0.18.0\n"
          ]
        }
      ]
    },
    {
      "cell_type": "code",
      "execution_count": 3,
      "metadata": {
        "id": "iBzLkTImsIWj"
      },
      "outputs": [],
      "source": [
        "#FINAL Model PoC LNA 12 May 2024 - Need Approval\n",
        "import pandas as pd\n",
        "import openai\n",
        "from google.colab import files"
      ]
    },
    {
      "cell_type": "code",
      "source": [
        "api_key = \" \""
      ],
      "metadata": {
        "id": "a29GRXxvsYLm"
      },
      "execution_count": null,
      "outputs": []
    },
    {
      "cell_type": "code",
      "source": [
        "lna_master = pd.read_csv('lna_master.csv')\n",
        "lna_score = pd.read_csv('lna_score.csv')"
      ],
      "metadata": {
        "id": "aEEhrO2asaRZ"
      },
      "execution_count": null,
      "outputs": []
    },
    {
      "cell_type": "code",
      "source": [
        "merged_data = pd.merge(lna_master, lna_score, on='competency_id', how='inner')"
      ],
      "metadata": {
        "id": "yDnxKKpPseah"
      },
      "execution_count": null,
      "outputs": []
    },
    {
      "cell_type": "code",
      "source": [
        "\n",
        "openai.api_key = api_key\n"
      ],
      "metadata": {
        "id": "lCAUU3qksgy3"
      },
      "execution_count": null,
      "outputs": []
    },
    {
      "cell_type": "code",
      "source": [
        "\n",
        "def generate_learning_solutions(row):\n",
        "    if row['status']:\n",
        "        required_level_map = {1: 'Entry', 2: 'Basic', 3: 'Intermediate', 4: 'Advanced', 5: 'Expert'}\n",
        "        required_level_description = required_level_map.get(row['required_level'])\n",
        "        current_level_map = {1: 'Entry', 2: 'Basic', 3: 'Intermediate', 4: 'Advanced', 5: 'Expert'}\n",
        "        current_level_description = required_level_map.get(row['current_level'])\n",
        "        if row['kelas_jabatan'] > 15:\n",
        "            prompt = f\"{row['employee_id']} requires enhancement in the competency {row['competency_id']}, with an actual level of {current_level_description} compared to the required mastery level of {required_level_description}.  I need brief recommendations (only 2 sentences) for a targeted learning solution approach tailored to {row['competency_name']} at a {required_level_description} proficiency level, Consider that {row['rumpun_jabatan']} as a job family. The solution should prioritize non-technical and efficient learning methods and Consider difficulty of the solution to fit for {required_level_description} proficiency level.\"\n",
        "        else:\n",
        "            prompt = f\"{row['employee_id']} requires enhancement in the competency {row['competency_id']}, with an actual level of {current_level_description} compared to the required mastery level of {required_level_description}.  I need brief recommendations (only 2 sentences) recommendations for a targeted learning solution approach tailored to {row['competency_name']} at a {required_level_description} proficiency level, Consider that {row['rumpun_jabatan']} as a job family. Consider difficulty of the solution to fit for {required_level_description} proficiency level.\"\n",
        "        response = openai.Completion.create(\n",
        "            engine=\"gpt-3.5-turbo-instruct\",\n",
        "            prompt=prompt,\n",
        "            temperature=0.5,\n",
        "            max_tokens=150\n",
        "        )\n",
        "        return response.choices[0].text.strip()\n",
        "    else:\n",
        "        return ''\n"
      ],
      "metadata": {
        "id": "C2GC6gJjsjJ5"
      },
      "execution_count": null,
      "outputs": []
    },
    {
      "cell_type": "code",
      "source": [
        "\n",
        "def generate_learning_topics(row):\n",
        "    if row['status']:\n",
        "        required_level_map = {1: 'Entry', 2: 'Basic', 3: 'Intermediate', 4: 'Advanced', 5: 'Expert'}\n",
        "        required_level_description = required_level_map.get(row['required_level'])\n",
        "        prompt = f\"What are the relevant key outlines or latest essential knowledge or paradigm that I will acquire for the competency {row['competency_name']} at the {required_level_description} proficiency level? List in 1 Title learning and 5 point of brief outline. Make the outline simple (just one line)\"\n",
        "        response = openai.Completion.create(\n",
        "            engine=\"gpt-3.5-turbo-instruct\",\n",
        "            prompt=prompt,\n",
        "            temperature=0.5,\n",
        "            max_tokens=100\n",
        "        )\n",
        "        topics = [topic['text'].strip() for topic in response.choices[:2]]\n",
        "        return '; '.join(topics)\n",
        "    else:\n",
        "        return ''\n"
      ],
      "metadata": {
        "id": "uUKBji-CskbJ"
      },
      "execution_count": null,
      "outputs": []
    },
    {
      "cell_type": "code",
      "source": [
        "\n",
        "merged_data['recommendation'] = merged_data.apply(generate_learning_solutions, axis=1)\n",
        "merged_data['topic_1'] = merged_data.apply(generate_learning_topics, axis=1)\n",
        "\n",
        "\n",
        "merged_data = merged_data[merged_data['recommendation'] != '']\n"
      ],
      "metadata": {
        "id": "gymnmCTRsml_"
      },
      "execution_count": null,
      "outputs": []
    },
    {
      "cell_type": "code",
      "source": [
        "\n",
        "output_file = 'learning_recommendations.xlsx'\n",
        "selected_columns = ['lna_master_id', 'employee_id', 'group_id', 'position_id', 'competency_id', 'name', 'kelas_jabatan', 'rumpun_jabatan', 'vitality_score', 'priority_comp', 'current_level', 'required_level', 'status', 'aggregate_competency', 'lna_batch_id_x', 'createdAt_x', 'updatedAt_x', 'lna_score_id', 'competency_name', 'recommendation', 'topic_1']\n",
        "merged_data[selected_columns].to_excel(output_file, index=False)\n",
        "\n",
        "files.download(output_file)"
      ],
      "metadata": {
        "id": "lScMKuYssn4Q"
      },
      "execution_count": null,
      "outputs": []
    }
  ]
}